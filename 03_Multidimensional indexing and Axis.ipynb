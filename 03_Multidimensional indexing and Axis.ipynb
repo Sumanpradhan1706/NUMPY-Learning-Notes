{
 "cells": [
  {
   "cell_type": "code",
   "execution_count": 3,
   "id": "32394467-df2a-44a5-93f5-4697b5053044",
   "metadata": {},
   "outputs": [],
   "source": [
    "import numpy as np\n",
    " \n",
    "arr = np.array([[1, 2, 3], \n",
    "                [4, 5, 6], \n",
    "                [7, 8, 9]])\n",
    " \n"
   ]
  },
  {
   "cell_type": "code",
   "execution_count": 4,
   "id": "a96dd3e1-447d-42dc-8b19-5bf7d83c2a07",
   "metadata": {},
   "outputs": [
    {
     "data": {
      "text/plain": [
       "array([[1, 2, 3],\n",
       "       [4, 5, 6],\n",
       "       [7, 8, 9]])"
      ]
     },
     "execution_count": 4,
     "metadata": {},
     "output_type": "execute_result"
    }
   ],
   "source": [
    "arr"
   ]
  },
  {
   "cell_type": "code",
   "execution_count": 5,
   "id": "f359c810-8171-4c7f-80eb-2b1caa90b481",
   "metadata": {},
   "outputs": [
    {
     "data": {
      "text/plain": [
       "array([1, 2, 3])"
      ]
     },
     "execution_count": 5,
     "metadata": {},
     "output_type": "execute_result"
    }
   ],
   "source": [
    "arr[0]"
   ]
  },
  {
   "cell_type": "code",
   "execution_count": 6,
   "id": "a016d20f-dcd5-4d79-96c7-5256f6e5372c",
   "metadata": {},
   "outputs": [
    {
     "data": {
      "text/plain": [
       "array([ 6, 15, 24])"
      ]
     },
     "execution_count": 6,
     "metadata": {},
     "output_type": "execute_result"
    }
   ],
   "source": [
    "np.sum(arr, axis=1) #Sum of all row's number"
   ]
  },
  {
   "cell_type": "code",
   "execution_count": 7,
   "id": "7019adca-a8ed-469e-86ca-a4b9b1ecfc73",
   "metadata": {},
   "outputs": [
    {
     "data": {
      "text/plain": [
       "array([12, 15, 18])"
      ]
     },
     "execution_count": 7,
     "metadata": {},
     "output_type": "execute_result"
    }
   ],
   "source": [
    "np.sum(arr, axis=0) #Sum of all colom's number"
   ]
  },
  {
   "cell_type": "code",
   "execution_count": 8,
   "id": "fb87d8a6-bb8b-4f5f-9829-277601e964df",
   "metadata": {},
   "outputs": [
    {
     "data": {
      "text/plain": [
       "np.int64(2)"
      ]
     },
     "execution_count": 8,
     "metadata": {},
     "output_type": "execute_result"
    }
   ],
   "source": [
    "arr[0][1]"
   ]
  },
  {
   "cell_type": "code",
   "execution_count": 9,
   "id": "f5091b82-866f-40fc-92c7-9700f0f29df0",
   "metadata": {},
   "outputs": [
    {
     "data": {
      "text/plain": [
       "np.int64(2)"
      ]
     },
     "execution_count": 9,
     "metadata": {},
     "output_type": "execute_result"
    }
   ],
   "source": [
    "arr[0, 1]"
   ]
  },
  {
   "cell_type": "code",
   "execution_count": 10,
   "id": "e7d233a4-3a32-4100-a914-9a8f4854e45f",
   "metadata": {},
   "outputs": [
    {
     "data": {
      "text/plain": [
       "array([[2, 3],\n",
       "       [5, 6]])"
      ]
     },
     "execution_count": 10,
     "metadata": {},
     "output_type": "execute_result"
    }
   ],
   "source": [
    "arr[0:2 , 1:3] # 0 se 1 index wala row and 1 se 2 index wala colom, show hoga overlapping wala area"
   ]
  },
  {
   "cell_type": "code",
   "execution_count": 13,
   "id": "1b4abde4-e865-4e95-81f3-e70ae0365337",
   "metadata": {},
   "outputs": [],
   "source": [
    "arr3D = np.array([\n",
    "    [[1, 2, 3],\n",
    "     [4, 5, 6]],\n",
    "                \n",
    "    [[7, 8, 9],\n",
    "    [10, 11, 12]]\n",
    "])"
   ]
  },
  {
   "cell_type": "code",
   "execution_count": 14,
   "id": "c1139c41-84d2-401e-8170-f14951b0d4aa",
   "metadata": {},
   "outputs": [
    {
     "name": "stdout",
     "output_type": "stream",
     "text": [
      "[[1 2 3]\n",
      " [7 8 9]]\n"
     ]
    }
   ],
   "source": [
    "print(arr3D[:, 0, :]) "
   ]
  },
  {
   "cell_type": "code",
   "execution_count": 16,
   "id": "2a140c4b-e676-4a40-867c-2209bd11f14f",
   "metadata": {},
   "outputs": [],
   "source": [
    "(arr3D[:, 0, :]) = 0 # Changing data along an axis"
   ]
  },
  {
   "cell_type": "code",
   "execution_count": 17,
   "id": "74cd8ac9-2091-4ba7-9988-e0065889b3dc",
   "metadata": {},
   "outputs": [
    {
     "data": {
      "text/plain": [
       "array([[[ 0,  0,  0],\n",
       "        [ 4,  5,  6]],\n",
       "\n",
       "       [[ 0,  0,  0],\n",
       "        [10, 11, 12]]])"
      ]
     },
     "execution_count": 17,
     "metadata": {},
     "output_type": "execute_result"
    }
   ],
   "source": [
    "arr3D"
   ]
  },
  {
   "cell_type": "code",
   "execution_count": null,
   "id": "e753f8dc-d8eb-426b-9af7-383167757ddf",
   "metadata": {},
   "outputs": [],
   "source": []
  }
 ],
 "metadata": {
  "kernelspec": {
   "display_name": "Python [conda env:base] *",
   "language": "python",
   "name": "conda-base-py"
  },
  "language_info": {
   "codemirror_mode": {
    "name": "ipython",
    "version": 3
   },
   "file_extension": ".py",
   "mimetype": "text/x-python",
   "name": "python",
   "nbconvert_exporter": "python",
   "pygments_lexer": "ipython3",
   "version": "3.13.5"
  }
 },
 "nbformat": 4,
 "nbformat_minor": 5
}
