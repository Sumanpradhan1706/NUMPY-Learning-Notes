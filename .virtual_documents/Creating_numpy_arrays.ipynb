import numpy as np



arr = np.array([1,3,4])


arr


arr2 = np.array([[1,3,5] , [2,7,9]])


arr2


np.zeros((3,5))


np.ones((3,4))


np.full((4,5) , 7)


np.eye(5)


np.arange(1,100 , 9)


np.linspace(1,100,5)


myarr = np.array([[1,2,3],[4,5,6],[7,8,9],[10,11,12]])


myarr


myarr.shape


myarr.size


myarr.ndim


myarr.dtype


myarr = np.array([[1,2,3],[4,5,6],[7,8,9],[10,11,12]], dtype = 'float32')


myarr.astype('float64')


n = myarr.astype('float64')


n.dtype


myarr.dtype


myarr.shape


reshaped = myarr.reshape((3,4))


reshaped


myarr


import numpy as np
arr3 = np.array([1, 3, 5, 7, 9, 2, 4, 0, 12])


reshaped = arr3.reshape((3,3))


reshaped



