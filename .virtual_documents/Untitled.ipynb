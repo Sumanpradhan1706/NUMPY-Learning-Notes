import numpy as np
 
arr = np.array([[1, 2, 3], 
                [4, 5, 6], 
                [7, 8, 9]])
 



arr


arr[0]


np.sum(arr, axis=1) #Sumof all row's number


np.sum(arr, axis=0) #Sum of all colom's number


arr[0][1]


arr[0, 1]


arr[0:2 , 1:3] # 0 se 1 index wala row and 1 se 2 index wala colom, show hoga overlapping wala area


arr3D = np.array([
    [[1, 2, 3],
     [4, 5, 6]],
                
    [[7, 8, 9],
    [10, 11, 12]]
])


print(arr3D[:, 0, :]) 


(arr3D[:, 0, :]) = 0


arr3D



