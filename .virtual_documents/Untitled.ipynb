import numpy as np


arr = np.array([3, 5, 2, 33])


np.mean(arr)


np.std(arr)


np.min(arr)


np.max(arr)


np.sum(arr)


np.prod(arr)


np.median(arr)


np.percentile(arr, 50)  # For the 50th percentile (median)


np.argmin(arr)


np.argmax(arr)


np.unique(arr)


np.diff(arr)


np.cumsum(arr)


np.linspace(0, 10, 5)  # 5 numbers from 0 to 10


np.log(arr)


np.exp(arr)



