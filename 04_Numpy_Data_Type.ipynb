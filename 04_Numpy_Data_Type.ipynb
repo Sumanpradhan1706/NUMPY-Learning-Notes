{
 "cells": [
  {
   "cell_type": "code",
   "execution_count": 1,
   "id": "0028132d-d498-4c81-8696-2a00343b13ad",
   "metadata": {},
   "outputs": [],
   "source": [
    "import numpy as np"
   ]
  },
  {
   "cell_type": "code",
   "execution_count": 2,
   "id": "d14d5b06-802d-4598-9840-7baf35ddbeb9",
   "metadata": {},
   "outputs": [],
   "source": [
    "arr = np.array([23 , 4, 3, 23])"
   ]
  },
  {
   "cell_type": "code",
   "execution_count": 3,
   "id": "1d1775ff-da40-427a-9acc-19e131b43a4e",
   "metadata": {},
   "outputs": [
    {
     "data": {
      "text/plain": [
       "dtype('int64')"
      ]
     },
     "execution_count": 3,
     "metadata": {},
     "output_type": "execute_result"
    }
   ],
   "source": [
    "arr.dtype"
   ]
  },
  {
   "cell_type": "code",
   "execution_count": 4,
   "id": "1e20476a-6c04-44ca-9aaf-8b7a9d3618d9",
   "metadata": {},
   "outputs": [
    {
     "data": {
      "text/plain": [
       "array([23.,  4.,  3., 23.])"
      ]
     },
     "execution_count": 4,
     "metadata": {},
     "output_type": "execute_result"
    }
   ],
   "source": [
    "arr.astype(\"float64\")"
   ]
  },
  {
   "cell_type": "code",
   "execution_count": 5,
   "id": "269230a4-b7b9-48dc-9300-5f607efcbf93",
   "metadata": {},
   "outputs": [
    {
     "name": "stdout",
     "output_type": "stream",
     "text": [
      "['apple' 'banana' 'cherry']\n"
     ]
    }
   ],
   "source": [
    "arr = np.array(['apple', 'banana', 'cherry'], dtype='U10')  # Unicode string array\n",
    "print(arr)  #String datatype"
   ]
  },
  {
   "cell_type": "code",
   "execution_count": 6,
   "id": "9bb2ade0-fb11-4a5e-8fdd-fa8875ef32e9",
   "metadata": {},
   "outputs": [
    {
     "name": "stdout",
     "output_type": "stream",
     "text": [
      "[1.+2.j 3.+4.j 5.+6.j]\n"
     ]
    }
   ],
   "source": [
    "arr = np.array([1 + 2j, 3 + 4j, 5 + 6j], dtype='complex128')  #Complex Number\n",
    "print(arr)"
   ]
  },
  {
   "cell_type": "code",
   "execution_count": 7,
   "id": "6ed59788-e255-4d1c-b5ea-c0489a1ce291",
   "metadata": {},
   "outputs": [
    {
     "name": "stdout",
     "output_type": "stream",
     "text": [
      "[{'a': 1} list([1, 2, 3]) 'hello']\n"
     ]
    }
   ],
   "source": [
    "arr = np.array([{'a': 1}, [1, 2, 3], 'hello'], dtype=object)  #Object datatype\n",
    "print(arr)"
   ]
  },
  {
   "cell_type": "code",
   "execution_count": null,
   "id": "68e3c656-d160-418b-a223-e1c7aabab190",
   "metadata": {},
   "outputs": [],
   "source": [
    "# NumPy arrays are homogeneous, meaning all elements must be of the same type.\n",
    "# Use .astype() to change data types and optimize memory and performance.\n",
    "# The choice of data type affects memory usage, performance, and precision.\n",
    "# Be mindful of complex numbers and object data types, which can increase memory usage and reduce performance."
   ]
  },
  {
   "cell_type": "code",
   "execution_count": null,
   "id": "2771ab8b-58fb-47ef-b7c7-b0b6574c6252",
   "metadata": {},
   "outputs": [],
   "source": []
  }
 ],
 "metadata": {
  "kernelspec": {
   "display_name": "Python [conda env:base] *",
   "language": "python",
   "name": "conda-base-py"
  },
  "language_info": {
   "codemirror_mode": {
    "name": "ipython",
    "version": 3
   },
   "file_extension": ".py",
   "mimetype": "text/x-python",
   "name": "python",
   "nbconvert_exporter": "python",
   "pygments_lexer": "ipython3",
   "version": "3.13.5"
  }
 },
 "nbformat": 4,
 "nbformat_minor": 5
}
