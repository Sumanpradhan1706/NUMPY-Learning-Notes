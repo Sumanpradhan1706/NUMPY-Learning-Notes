{
 "cells": [
  {
   "cell_type": "code",
   "execution_count": 1,
   "id": "94c09776-e19a-4529-a3a7-0ae02ecae224",
   "metadata": {},
   "outputs": [],
   "source": [
    "import numpy as np"
   ]
  },
  {
   "cell_type": "code",
   "execution_count": 3,
   "id": "dbc03063-2865-454d-afc7-6370025da326",
   "metadata": {},
   "outputs": [
    {
     "name": "stdout",
     "output_type": "stream",
     "text": [
      "[ 1  4  9 16 25]\n"
     ]
    }
   ],
   "source": [
    "arr = np.array([1, 2, 3, 4, 5])\n",
    "result = arr ** 2  # Vectorized operation\n",
    "print(result)  "
   ]
  },
  {
   "cell_type": "code",
   "execution_count": 4,
   "id": "825b2bc0-af95-439b-b8d3-2cccd557d45e",
   "metadata": {},
   "outputs": [
    {
     "name": "stdout",
     "output_type": "stream",
     "text": [
      "[11 12 13 14 15]\n"
     ]
    }
   ],
   "source": [
    "# Broadcasting with Scalar\n",
    "arr = np.array([1, 2, 3, 4, 5])\n",
    "result = arr + 10  # Broadcasting: 10 is added to all elements\n",
    "print(result) "
   ]
  },
  {
   "cell_type": "code",
   "execution_count": 5,
   "id": "8fa29c4d-2e88-44eb-8acf-abc465027bf3",
   "metadata": {},
   "outputs": [
    {
     "name": "stdout",
     "output_type": "stream",
     "text": [
      "[11 22 33]\n"
     ]
    }
   ],
   "source": [
    "#  Broadcasting with Two Arrays\n",
    "arr1 = np.array([1, 2, 3])\n",
    "arr2 = np.array([10, 20, 30])\n",
    "\n",
    "result = arr1 + arr2  # Element-wise addition\n",
    "print(result) "
   ]
  },
  {
   "cell_type": "code",
   "execution_count": 6,
   "id": "79e03330-fa4a-46b9-9694-fa77b15e6f91",
   "metadata": {},
   "outputs": [
    {
     "name": "stdout",
     "output_type": "stream",
     "text": [
      "[[2 4 6]\n",
      " [5 7 9]]\n"
     ]
    }
   ],
   "source": [
    "#  Broadcasting a 2D Array and a 1D Array\n",
    "arr1 = np.array([[1, 2, 3], [4, 5, 6]])\n",
    "arr2 = np.array([1, 2, 3])\n",
    "\n",
    "result = arr1 + arr2  # Broadcasting arr2 across arr1\n",
    "print(result)\n"
   ]
  },
  {
   "cell_type": "code",
   "execution_count": 7,
   "id": "a6bef830-eda8-4138-988b-0a6a4757a996",
   "metadata": {},
   "outputs": [
    {
     "name": "stdout",
     "output_type": "stream",
     "text": [
      "[[-1.41421356 -1.41421356 -1.41421356]\n",
      " [-0.70710678 -0.70710678 -0.70710678]\n",
      " [ 0.          0.          0.        ]\n",
      " [ 0.70710678  0.70710678  0.70710678]\n",
      " [ 1.41421356  1.41421356  1.41421356]]\n"
     ]
    }
   ],
   "source": [
    "# Simulating a dataset (5 samples, 3 features)\n",
    "data = np.array([[10, 20, 30],\n",
    "                 [15, 25, 35],\n",
    "                 [20, 30, 40],\n",
    "                 [25, 35, 45],\n",
    "                 [30, 40, 50]])\n",
    "\n",
    "# Calculating mean and standard deviation for each feature (column)\n",
    "mean = data.mean(axis=0)\n",
    "std = data.std(axis=0)\n",
    "\n",
    "# Normalizing the data using broadcasting\n",
    "normalized_data = (data - mean) / std\n",
    "\n",
    "print(normalized_data)"
   ]
  },
  {
   "cell_type": "code",
   "execution_count": 8,
   "id": "493b365d-0649-490e-96f4-7ddf513a8b9b",
   "metadata": {},
   "outputs": [],
   "source": [
    "# Loops are slow because Python's interpreter adds overhead, making iteration less efficient.\n",
    "# Vectorization allows you to apply operations to entire arrays at once, greatly improving performance by utilizing NumPy’s optimized C backend.\n",
    "# Broadcasting enables operations between arrays of different shapes by automatically stretching the smaller array to match the shape of the larger array, without creating additional copies.\n",
    "# Real-world use: Broadcasting can be used in data science tasks, such as normalizing datasets, without sacrificing memory or performance."
   ]
  },
  {
   "cell_type": "code",
   "execution_count": null,
   "id": "4fb29f38-9dad-4dad-84dc-e5eafb5014b3",
   "metadata": {},
   "outputs": [],
   "source": []
  }
 ],
 "metadata": {
  "kernelspec": {
   "display_name": "Python [conda env:base] *",
   "language": "python",
   "name": "conda-base-py"
  },
  "language_info": {
   "codemirror_mode": {
    "name": "ipython",
    "version": 3
   },
   "file_extension": ".py",
   "mimetype": "text/x-python",
   "name": "python",
   "nbconvert_exporter": "python",
   "pygments_lexer": "ipython3",
   "version": "3.13.5"
  }
 },
 "nbformat": 4,
 "nbformat_minor": 5
}
